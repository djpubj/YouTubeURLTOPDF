{
 "cells": [
  {
   "cell_type": "code",
   "execution_count": null,
   "metadata": {},
   "outputs": [],
   "source": [
    "%pip install opencv-python-headless\n",
    "%pip install scikit-image\n",
    "%pip install fpdf\n",
    "%pip install yt-dlp"
   ]
  },
  {
   "cell_type": "code",
   "execution_count": null,
   "metadata": {},
   "outputs": [],
   "source": [
    "import sys\n",
    "from PIL import Image\n",
    "from PIL import ImageFile\n",
    "sys.modules['Imagefile']=ImageFile\n",
    "import cv2\n",
    "import os\n",
    "import tempfile \n",
    "import re\n",
    "from fpdf import FPDF\n",
    "import yt_dlp\n",
    "from skimage.metrics import structural_similarity as ssim\n",
    "from IPython.display import FileLink"
   ]
  }
 ],
 "metadata": {
  "kernelspec": {
   "display_name": ".venv",
   "language": "python",
   "name": "python3"
  },
  "language_info": {
   "codemirror_mode": {
    "name": "ipython",
    "version": 3
   },
   "file_extension": ".py",
   "mimetype": "text/x-python",
   "name": "python",
   "nbconvert_exporter": "python",
   "pygments_lexer": "ipython3",
   "version": "3.11.0"
  }
 },
 "nbformat": 4,
 "nbformat_minor": 2
}
