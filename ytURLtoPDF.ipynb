{
 "cells": [
  {
   "cell_type": "code",
   "execution_count": null,
   "metadata": {},
   "outputs": [],
   "source": [
    "%pip install opencv-python-headless\n",
    "%pip install scikit-image\n",
    "%pip install fpdf\n",
    "%pip install yt-dlp"
   ]
  },
  {
   "cell_type": "code",
   "execution_count": null,
   "metadata": {},
   "outputs": [],
   "source": [
    "import sys\n",
    "from PIL import Image\n",
    "from PIL import ImageFile\n",
    "sys.modules['Imagefile']=ImageFile\n",
    "import cv2\n",
    "import os\n",
    "import tempfile \n",
    "import re\n",
    "from fpdf import FPDF\n",
    "import yt_dlp\n",
    "from skimage.metrics import structural_similarity as ssim\n",
    "from IPython.display import FileLink"
   ]
  },
  {
   "cell_type": "code",
   "execution_count": null,
   "metadata": {},
   "outputs": [],
   "source": [
    "def download_video(url,filename,max_retries=3):\n",
    "    ydl_opts={\n",
    "        \"outtmpl\":filename,\n",
    "        \"format\":\"best\",\n",
    "    }\n",
    "    r=0\n",
    "    while r<max_retries:\n",
    "        try:\n",
    "            with yt_dlp.YoutubeDL(ydl_opts) as ydl:\n",
    "                ydl.download([url])\n",
    "                return filename\n",
    "        except yt_dlp.utils.DownloadError as e:\n",
    "            print(f\"error {e}\")\n",
    "            r+=1\n",
    "    raise Exception(\"failed to download after max retries\")"
   ]
  },
  {
   "cell_type": "code",
   "execution_count": null,
   "metadata": {},
   "outputs": [],
   "source": [
    "def get_video_id(url):\n",
    "    v_i_m=re.search(r\"shorts\\/(w+)\",url)\n",
    "    if v_i_m:\n",
    "        return v_i_m.group(1)\n",
    "    \n",
    "    v_i_m=re.search(r\"youtu\\.be\\/([\\w\\-_]+)(\\?.*)?\",url)\n",
    "    if v_i_m:\n",
    "        return v_i_m.group(1)\n",
    "    \n",
    "    v_i_m=re.search(r\"v=([\\w\\-_]+)\",url)\n",
    "    if v_i_m:\n",
    "        return v_i_m.group(1)\n",
    "    \n",
    "    v_i_m=re.search(r\"live\\/(\\w+)\",url)\n",
    "    if v_i_m:\n",
    "        return v_i_m.group(1)\n",
    "    \n",
    "    return None"
   ]
  }
 ],
 "metadata": {
  "kernelspec": {
   "display_name": ".venv",
   "language": "python",
   "name": "python3"
  },
  "language_info": {
   "codemirror_mode": {
    "name": "ipython",
    "version": 3
   },
   "file_extension": ".py",
   "mimetype": "text/x-python",
   "name": "python",
   "nbconvert_exporter": "python",
   "pygments_lexer": "ipython3",
   "version": "3.11.0"
  }
 },
 "nbformat": 4,
 "nbformat_minor": 2
}
