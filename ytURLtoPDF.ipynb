{
 "cells": [
  {
   "cell_type": "code",
   "execution_count": null,
   "metadata": {},
   "outputs": [],
   "source": [
    "%pip install opencv-python-headless\n",
    "%pip install scikit-image\n",
    "%pip install fpdf\n",
    "%pip install yt-dlp"
   ]
  },
  {
   "cell_type": "code",
   "execution_count": null,
   "metadata": {},
   "outputs": [],
   "source": [
    "import sys\n",
    "from PIL import Image\n",
    "from PIL import ImageFile\n",
    "sys.modules['Imagefile']=ImageFile\n",
    "import cv2\n",
    "import os\n",
    "import tempfile \n",
    "import re\n",
    "from fpdf import FPDF\n",
    "import yt_dlp\n",
    "from skimage.metrics import structural_similarity as ssim\n",
    "from IPython.display import FileLink"
   ]
  },
  {
   "cell_type": "code",
   "execution_count": null,
   "metadata": {},
   "outputs": [],
   "source": [
    "def download_video(url,filename,max_retries=3):\n",
    "    ydl_opts={\n",
    "        \"outtmpl\":filename,\n",
    "        \"format\":\"best\",\n",
    "    }\n",
    "    r=0\n",
    "    while r<max_retries:\n",
    "        try:\n",
    "            with yt_dlp.YoutubeDL(ydl_opts) as ydl:\n",
    "                ydl.download([url])\n",
    "                return filename\n",
    "        except yt_dlp.utils.DownloadError as e:\n",
    "            print(f\"error {e}\")\n",
    "            r+=1\n",
    "    raise Exception(\"failed to download after max retries\")"
   ]
  },
  {
   "cell_type": "code",
   "execution_count": null,
   "metadata": {},
   "outputs": [],
   "source": [
    "def get_video_id(url):\n",
    "    v_i_m=re.search(r\"shorts\\/(w+)\",url)\n",
    "    if v_i_m:\n",
    "        return v_i_m.group(1)\n",
    "    \n",
    "    v_i_m=re.search(r\"youtu\\.be\\/([\\w\\-_]+)(\\?.*)?\",url)\n",
    "    if v_i_m:\n",
    "        return v_i_m.group(1)\n",
    "    \n",
    "    v_i_m=re.search(r\"v=([\\w\\-_]+)\",url)\n",
    "    if v_i_m:\n",
    "        return v_i_m.group(1)\n",
    "    \n",
    "    v_i_m=re.search(r\"live\\/(\\w+)\",url)\n",
    "    if v_i_m:\n",
    "        return v_i_m.group(1)\n",
    "    \n",
    "    return None"
   ]
  },
  {
   "cell_type": "code",
   "execution_count": null,
   "metadata": {},
   "outputs": [],
   "source": [
    "def get_playlist_videos(playlist_url):\n",
    "    ydl_opts = {\n",
    "        \"ignoreerrors\" :True,\n",
    "        \"playlistened\":1000,\n",
    "        \"extract_flat\": True,\n",
    "    }\n",
    "    with yt_dlp.YoutubeDL(ydl_opts) as ydl:\n",
    "        playlist_info-=ydl.extract_info(playlist_url,download=False)\n",
    "        return [entry[\"url\"] for entry in playlist_info[\"entries\"]]"
   ]
  },
  {
   "cell_type": "code",
   "execution_count": null,
   "metadata": {},
   "outputs": [],
   "source": [
    "def extract_unique_frames(video_file,output_folder,n=3,ssim_threshold=0.6):\n",
    "    cap = cv2.VideoCapture(video_file)\n",
    "    fps = int(cap.get(cv2.CAP_PROP_FPS))\n",
    "    last_frame=None\n",
    "    saved_frame=None\n",
    "    frame_number=0\n",
    "    last_saved_frame_number=-1\n",
    "    timestamps=[]\n",
    "\n",
    "    while cap.isOpened():\n",
    "        ret,frame=cap.read()\n",
    "        if not ret:\n",
    "            break\n",
    "\n",
    "        if frame_number % n ==0:\n",
    "            gray_frame = cv2.cvtColor(frame,cv2.COLOR_BGR2GRAY)\n",
    "            gray_frame=cv2.resize(gray_frame,(128,72))\n",
    "\n",
    "            if last_frame is not None:\n",
    "                similarity=ssim(gray_frame,last_frame,data_range=gray_frame.max()-gray_frame.min())\n",
    "\n",
    "                if similarity < ssim_threshold:\n",
    "                    if saved_frame is not None and frame_number - last_saved_frame_number >fps:\n",
    "                        frame_path =os.path.join(output_folder,f\"frame{frame_number:04d}_{frame_number//fps}.png\")\n",
    "                        cv2.imwrite(frame_path,saved_frame)\n",
    "                        timestamps.append((frame_number,frame_number//fps))\n",
    "                    saved_frame=frame\n",
    "                    last_saved_frame_number=frame_number\n",
    "                else:\n",
    "                    saved_frame=frame\n",
    "            else:\n",
    "                frame_path =os.path.join(output_folder,f\"frame{frame_number:04d}_{frame_number//fps}.png\")\n",
    "                cv2.imwrite(frame_path,frame)\n",
    "                timestamps.append((frame_number,frame_number//fps))\n",
    "            last_frame=gray_frame\n",
    "        frame_number+=1\n",
    "\n",
    "    cap.release()\n",
    "    return timestamps      "
   ]
  },
  {
   "cell_type": "code",
   "execution_count": null,
   "metadata": {},
   "outputs": [],
   "source": [
    "def convert_frames_to_pdf(input_folder,output_file,timestamps):\n",
    "    frame_files=sorted(os.listdir(input_folder),key=lambda x: int(x.split(\"_\")[0].split(\"frame\")[-1]))\n",
    "    pdf=FPDF(\"L\")\n",
    "    pdf.set_auto_page_break(0)\n",
    "\n",
    "    for i, (frame_file,(frame_number,timestamp_seconds)) in enumerate(zip(frame_files,timestamps)):\n",
    "        frame_path=os.path.join(input_folder,frame_file)\n",
    "        image=Image.open(frame_path)\n",
    "        pdf.add_page()\n",
    "\n",
    "        pdf.image(frame_path,x=0,y=0,w=pdf.w,h=pdf.h)\n",
    "        timestamp=f\"{timestamp_seconds//3600:02d}:{(timestamp_seconds % 3600)// 60:02d}:{timestamp_seconds % 60:02d}\"\n",
    "\n",
    "        x,y, width,height=5,5,60,15\n",
    "        region = image.crop((x,y,x+width,y+height)).convert(\"L\")\n",
    "        mean_pixel_value=region.resize((1,1)).getpixel((0,0))\n",
    "        if mean_pixel_value < 64:\n",
    "            pdf.set_text_color(255,255,255)\n",
    "        else:\n",
    "            pdf.set_text_color(0,0,0)\n",
    "        \n",
    "        pdf.set_xy(x,y)\n",
    "        pdf.set_font(\"Arial\",size=12)\n",
    "        pdf.cell(0,0,timestamp)\n",
    "\n",
    "    pdf.output(output_file)"
   ]
  }
 ],
 "metadata": {
  "kernelspec": {
   "display_name": ".venv",
   "language": "python",
   "name": "python3"
  },
  "language_info": {
   "codemirror_mode": {
    "name": "ipython",
    "version": 3
   },
   "file_extension": ".py",
   "mimetype": "text/x-python",
   "name": "python",
   "nbconvert_exporter": "python",
   "pygments_lexer": "ipython3",
   "version": "3.11.0"
  }
 },
 "nbformat": 4,
 "nbformat_minor": 2
}
